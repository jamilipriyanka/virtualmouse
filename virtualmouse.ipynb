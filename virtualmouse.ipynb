{
 "cells": [
  {
   "cell_type": "code",
   "execution_count": 1,
   "id": "33dd2e6a-2643-4b64-8364-a86c3d85b53f",
   "metadata": {},
   "outputs": [],
   "source": [
    "import cv2\n",
    "import mediapipe as mp\n",
    "import pyautogui\n",
    "import util\n",
    "from pynput.mouse import Button, Controller\n",
    "mouse = Controller()\n",
    "import random"
   ]
  },
  {
   "cell_type": "code",
   "execution_count": 2,
   "id": "07fc076e-2866-43df-8af5-2655551e9889",
   "metadata": {},
   "outputs": [],
   "source": [
    "screen_width, screen_height = pyautogui.size()\n",
    "mouse = Controller()\n",
    "mpHands = mp.solutions.hands\n",
    "hands = mpHands.Hands(\n",
    " static_image_mode=False,\n",
    " model_complexity=1,\n",
    " min_detection_confidence=0.7,\n",
    " min_tracking_confidence=0.7,\n",
    " max_num_hands = 1\n",
    ")\n"
   ]
  },
  {
   "cell_type": "code",
   "execution_count": 3,
   "id": "88d28444-6e64-4d45-8f3e-1bf79532f404",
   "metadata": {},
   "outputs": [],
   "source": [
    "def find_finger_tip(processed):\n",
    "    if processed.multi_hand_landmarks:\n",
    "        hand_landmarks = processed.multi_hand_landmarks[0]\n",
    "        return hand_landmarks.landmark[mpHands.HandLandmark.INDEX_FINGER_TIP]\n",
    "\n",
    "    return None"
   ]
  },
  {
   "cell_type": "code",
   "execution_count": 4,
   "id": "0415a3d5-7efe-4448-b85e-947bbe198e86",
   "metadata": {},
   "outputs": [],
   "source": [
    "def move_mouse(index_finger_tip):\n",
    "    if index_finger_tip is not None:\n",
    "        x = int(index_finger_tip.x * screen_width)\n",
    "        y = int(index_finger_tip.y * screen_height)\n",
    "        pyautogui.moveTo(x, y)"
   ]
  },
  {
   "cell_type": "code",
   "execution_count": 5,
   "id": "d2cab50d-2c97-4f92-94bd-730d757ef26e",
   "metadata": {},
   "outputs": [],
   "source": [
    "def is_left_click(landmarks_list, thumb_index_dist):\n",
    "    return (\n",
    "        util.get_angle(landmarks_list[5], landmarks_list[6], landmarks_list[8]) < 50 and \n",
    "        util.get_angle(landmarks_list[9], landmarks_list[10], landmarks_list[12]) > 90 and\n",
    "        thumb_index_dist > 50\n",
    "    )\n",
    "\n",
    "def is_right_click(landmarks_list, thumb_index_dist):\n",
    "    return (\n",
    "        util.get_angle(landmarks_list[9], landmarks_list[10], landmarks_list[12]) < 50 and  # middle finger bent\n",
    "        util.get_angle(landmarks_list[5], landmarks_list[6], landmarks_list[8]) > 90 and   # index finger straight\n",
    "        thumb_index_dist > 50  # thumb straight\n",
    "    )\n",
    "def is_double_click(landmarks_list, thumb_index_dist):\n",
    "    return (\n",
    "        util.get_angle(landmarks_list[5], landmarks_list[6], landmarks_list[8]) < 50 and  # index close\n",
    "        util.get_angle(landmarks_list[9], landmarks_list[10], landmarks_list[12]) < 50 and  # middle close\n",
    "        thumb_index_dist > 50  # thumb open\n",
    "    )\n",
    "\n",
    "\n",
    "def is_screenshot(landmarks_list, thumb_index_dist):  # all fingers are closed\n",
    "    return (\n",
    "        util.get_angle(landmarks_list[5], landmarks_list[6], landmarks_list[8]) < 50 and\n",
    "        util.get_angle(landmarks_list[9], landmarks_list[10], landmarks_list[12]) < 50 and\n",
    "        thumb_index_dist < 50\n",
    "    )\n",
    "\n",
    "\n"
   ]
  },
  {
   "cell_type": "code",
   "execution_count": 6,
   "id": "6284806e-d56d-47ec-bcf8-d83d86f40cf7",
   "metadata": {},
   "outputs": [],
   "source": [
    "def detect_gestures(frame, landmarks_list, processed):\n",
    "    if len(landmarks_list) >= 21:\n",
    "        index_finger_tip = find_finger_tip(processed)\n",
    "        thumb_index_dist = util.get_distance([landmarks_list[4], landmarks_list[5]])\n",
    "\n",
    "        if thumb_index_dist < 50 and util.get_angle(landmarks_list[5], landmarks_list[6], landmarks_list[8]) > 90:\n",
    "            move_mouse(index_finger_tip)\n",
    "\n",
    "        # LEFT CLICK\n",
    "        elif is_left_click(landmarks_list, thumb_index_dist):\n",
    "            mouse.press(Button.left)\n",
    "            mouse.release(Button.left)\n",
    "            cv2.putText(frame, \"Left Click\", (50, 50), cv2.FONT_HERSHEY_SIMPLEX, 1, (0, 255, 0), 2)\n",
    "\n",
    "        # RIGHT CLICK\n",
    "        elif is_right_click(landmarks_list, thumb_index_dist):\n",
    "            mouse.press(Button.right)\n",
    "            mouse.release(Button.right)\n",
    "            cv2.putText(frame, \"Right Click\", (50, 50),  cv2.FONT_HERSHEY_SIMPLEX, 1, (0, 0, 255), 2)\n",
    "\n",
    "        # DOUBLE CLICK\n",
    "        elif is_double_click(landmarks_list, thumb_index_dist):\n",
    "            pyautogui.doubleClick()\n",
    "            cv2.putText(frame, \"Double Click\", (50, 50), cv2.FONT_HERSHEY_SIMPLEX, 1, (255, 255, 0), 2)\n",
    "\n",
    "        # SCREENSHOT\n",
    "        elif is_screenshot(landmarks_list, thumb_index_dist):\n",
    "            im1 = pyautogui.screenshot()\n",
    "            label = random.randint(1, 1000)\n",
    "            im1.save(f'my_screenshot_{label}.png')\n",
    "            cv2.putText(frame, \"Screenshot Taken\", (50, 50), cv2.FONT_HERSHEY_SIMPLEX, 1, (255, 255, 0), 2)\n",
    "\n"
   ]
  },
  {
   "cell_type": "code",
   "execution_count": null,
   "id": "f009138b-da10-4cde-8598-b65fa8ad3d52",
   "metadata": {},
   "outputs": [],
   "source": [
    "def main():\n",
    "    cap = cv2.VideoCapture(0)\n",
    "    draw = mp.solutions.drawing_utils\n",
    "    try:\n",
    "        while cap.isOpened():\n",
    "            ret, frame = cap.read()\n",
    "            if not ret:\n",
    "                break\n",
    "            frame = cv2.flip(frame,1)\n",
    "            frameRGB = cv2.cvtColor(frame, cv2.COLOR_BGR2RGB)\n",
    "            processed = hands.process(frameRGB)\n",
    "            landmarks_list = []\n",
    "            if processed.multi_hand_landmarks:\n",
    "                hand_landmarks = processed.multi_hand_landmarks[0]\n",
    "                draw.draw_landmarks(frame, hand_landmarks, \n",
    "mpHands.HAND_CONNECTIONS)\n",
    "                for lm in hand_landmarks.landmark:\n",
    "                    landmarks_list.append((lm.x, lm.y))\n",
    "            detect_gestures(frame, landmarks_list, processed)\n",
    "            cv2.imshow('Frame',frame)\n",
    "            if cv2.waitKey(1) & 0xFF == ord('q'):\n",
    "                break\n",
    "    finally:\n",
    "        cap.release()\n",
    "        cv2.destroyAllWindows()\n",
    "if __name__ == '__main__':\n",
    "     main()"
   ]
  },
  {
   "cell_type": "code",
   "execution_count": null,
   "id": "107f4124-a710-463d-9741-0345a352a061",
   "metadata": {},
   "outputs": [],
   "source": []
  },
  {
   "cell_type": "code",
   "execution_count": null,
   "id": "cd8a05eb-77e9-410b-8888-3056d03871c1",
   "metadata": {},
   "outputs": [],
   "source": []
  },
  {
   "cell_type": "code",
   "execution_count": null,
   "id": "cd5e5af9-4cd6-43f0-a699-6fe2d85d7a4b",
   "metadata": {},
   "outputs": [],
   "source": []
  }
 ],
 "metadata": {
  "kernelspec": {
   "display_name": "Python 3 (ipykernel)",
   "language": "python",
   "name": "python3"
  },
  "language_info": {
   "codemirror_mode": {
    "name": "ipython",
    "version": 3
   },
   "file_extension": ".py",
   "mimetype": "text/x-python",
   "name": "python",
   "nbconvert_exporter": "python",
   "pygments_lexer": "ipython3",
   "version": "3.10.0"
  }
 },
 "nbformat": 4,
 "nbformat_minor": 5
}
